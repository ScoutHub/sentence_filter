{
 "cells": [
  {
   "cell_type": "code",
   "execution_count": 22,
   "metadata": {},
   "outputs": [],
   "source": [
    "import pandas as pd\n",
    "import networkx as nx\n",
    "from datetime import datetime, timedelta"
   ]
  },
  {
   "cell_type": "code",
   "execution_count": 39,
   "metadata": {},
   "outputs": [],
   "source": [
    "def time_to_minutes(time_str):\n",
    "    \"\"\"\n",
    "    Convert a HH:MM:SS time string to minutes since midnight.\n",
    "    If the time goes beyond 24:00:00 (e.g., 25:30:00), it handles it correctly.\n",
    "    \"\"\"\n",
    "    hours, minutes, seconds = map(int, time_str.split(':'))\n",
    "    return hours * 60 + minutes + seconds / 60"
   ]
  },
  {
   "cell_type": "code",
   "execution_count": 40,
   "metadata": {},
   "outputs": [],
   "source": [
    "def load_gtfs_data(tgv_folder, ter_folder):\n",
    "    \"\"\"\n",
    "    Load GTFS data from the given TGV and TER folders.\n",
    "    \"\"\"\n",
    "    tgv_stops = pd.read_csv(f\"{tgv_folder}/stops.txt\")\n",
    "    tgv_stop_times = pd.read_csv(f\"{tgv_folder}/stop_times.txt\")\n",
    "    tgv_routes = pd.read_csv(f\"{tgv_folder}/routes.txt\")\n",
    "    tgv_trips = pd.read_csv(f\"{tgv_folder}/trips.txt\")\n",
    "\n",
    "    ter_stops = pd.read_csv(f\"{ter_folder}/stops.txt\")\n",
    "    ter_stop_times = pd.read_csv(f\"{ter_folder}/stop_times.txt\")\n",
    "    ter_routes = pd.read_csv(f\"{ter_folder}/routes.txt\")\n",
    "    ter_trips = pd.read_csv(f\"{ter_folder}/trips.txt\")\n",
    "\n",
    "    return {\n",
    "        \"tgv\": {\n",
    "            \"stops\": tgv_stops,\n",
    "            \"stop_times\": tgv_stop_times,\n",
    "            \"routes\": tgv_routes,\n",
    "            \"trips\": tgv_trips,\n",
    "        },\n",
    "        \"ter\": {\n",
    "            \"stops\": ter_stops,\n",
    "            \"stop_times\": ter_stop_times,\n",
    "            \"routes\": ter_routes,\n",
    "            \"trips\": ter_trips,\n",
    "        },\n",
    "    }"
   ]
  },
  {
   "cell_type": "code",
   "execution_count": 41,
   "metadata": {},
   "outputs": [],
   "source": [
    "def build_graph(gtfs_data):\n",
    "    \"\"\"\n",
    "    Build a graph from the GTFS data.\n",
    "    - Nodes: stop_ids\n",
    "    - Edges: trips between stops with weight as the travel time (in minutes).\n",
    "    \"\"\"\n",
    "    G = nx.DiGraph()\n",
    "\n",
    "    for category, data in gtfs_data.items():\n",
    "        stop_times = data[\"stop_times\"]\n",
    "\n",
    "        # Sort stop_times by trip_id and stop_sequence to ensure proper order\n",
    "        stop_times = stop_times.sort_values(by=[\"trip_id\", \"stop_sequence\"])\n",
    "\n",
    "        # Iterate through each trip and add edges to the graph\n",
    "        for trip_id, group in stop_times.groupby(\"trip_id\"):\n",
    "            previous_stop = None\n",
    "            previous_departure = None\n",
    "\n",
    "            for _, row in group.iterrows():\n",
    "                stop_id = row[\"stop_id\"]\n",
    "                arrival_time = row[\"arrival_time\"]\n",
    "                departure_time = row[\"departure_time\"]\n",
    "\n",
    "                if previous_stop is not None:\n",
    "                    # Calculate travel time in minutes\n",
    "                    travel_time = time_to_minutes(arrival_time) - time_to_minutes(previous_departure)\n",
    "\n",
    "                    # Handle cases where times span midnight\n",
    "                    if travel_time < 0:\n",
    "                        travel_time += 24 * 60\n",
    "\n",
    "                    # Add edge to the graph\n",
    "                    G.add_edge(\n",
    "                        previous_stop,\n",
    "                        stop_id,\n",
    "                        weight=travel_time,\n",
    "                        trip_id=trip_id,\n",
    "                        category=category,\n",
    "                    )\n",
    "\n",
    "                previous_stop = stop_id\n",
    "                previous_departure = departure_time\n",
    "\n",
    "    return G"
   ]
  },
  {
   "cell_type": "code",
   "execution_count": 42,
   "metadata": {},
   "outputs": [],
   "source": [
    "tgv_folder = \"export_gtfs_voyages\"\n",
    "ter_folder = \"export-ter-gtfs-last\""
   ]
  },
  {
   "cell_type": "code",
   "execution_count": 43,
   "metadata": {},
   "outputs": [],
   "source": [
    "gtfs_data = load_gtfs_data(tgv_folder, ter_folder)"
   ]
  },
  {
   "cell_type": "code",
   "execution_count": 44,
   "metadata": {},
   "outputs": [],
   "source": [
    "graph = build_graph(gtfs_data)"
   ]
  },
  {
   "cell_type": "code",
   "execution_count": 45,
   "metadata": {},
   "outputs": [],
   "source": [
    "def find_fastest_path(graph, gtfs_data, source_city, destination_city, current_time):\n",
    "    \"\"\"\n",
    "    Find the fastest path between two cities using Dijkstra's algorithm.\n",
    "    \"\"\"\n",
    "    # Map city names to stop_ids\n",
    "    def get_stop_ids(city_name, stops_df):\n",
    "        return stops_df[stops_df[\"stop_name\"].str.contains(city_name, case=False, na=False)][\"stop_id\"].tolist()\n",
    "\n",
    "    source_stops = []\n",
    "    destination_stops = []\n",
    "\n",
    "    for category, data in gtfs_data.items():\n",
    "        stops = data[\"stops\"]\n",
    "        source_stops += get_stop_ids(source_city, stops)\n",
    "        destination_stops += get_stop_ids(destination_city, stops)\n",
    "\n",
    "    if not source_stops or not destination_stops:\n",
    "        raise ValueError(\"Source or destination city not found in the data.\")\n",
    "\n",
    "    # Adjust current time to minutes since midnight\n",
    "    now_minutes = current_time.hour * 60 + current_time.minute\n",
    "\n",
    "    # Filter edges based on departure times\n",
    "    filtered_graph = nx.DiGraph()\n",
    "    for u, v, data in graph.edges(data=True):\n",
    "        departure_time = time_to_minutes(data.get(\"departure_time\", \"00:00:00\"))\n",
    "        if departure_time >= now_minutes:\n",
    "            filtered_graph.add_edge(u, v, **data)\n",
    "\n",
    "    # Find the shortest path using Dijkstra's algorithm\n",
    "    min_time = float(\"inf\")\n",
    "    best_path = None\n",
    "\n",
    "    for source in source_stops:\n",
    "        for destination in destination_stops:\n",
    "            try:\n",
    "                path = nx.shortest_path(filtered_graph, source=source, target=destination, weight=\"weight\")\n",
    "                time = nx.shortest_path_length(filtered_graph, source=source, target=destination, weight=\"weight\")\n",
    "\n",
    "                if time < min_time:\n",
    "                    min_time = time\n",
    "                    best_path = path\n",
    "            except nx.NetworkXNoPath:\n",
    "                continue\n",
    "\n",
    "    if best_path is None:\n",
    "        raise ValueError(\"No path found between the cities at the current time.\")\n",
    "\n",
    "    return best_path, min_time"
   ]
  },
  {
   "cell_type": "code",
   "execution_count": 46,
   "metadata": {},
   "outputs": [
    {
     "ename": "NodeNotFound",
     "evalue": "Either source StopArea:OCE87212027 or target StopArea:OCE87113001 is not in G",
     "output_type": "error",
     "traceback": [
      "\u001b[0;31m---------------------------------------------------------------------------\u001b[0m",
      "\u001b[0;31mNodeNotFound\u001b[0m                              Traceback (most recent call last)",
      "Cell \u001b[0;32mIn[46], line 6\u001b[0m\n\u001b[1;32m      3\u001b[0m current_time \u001b[38;5;241m=\u001b[39m datetime\u001b[38;5;241m.\u001b[39mnow()\n\u001b[1;32m      5\u001b[0m \u001b[38;5;66;03m# Find the fastest path\u001b[39;00m\n\u001b[0;32m----> 6\u001b[0m path, time \u001b[38;5;241m=\u001b[39m \u001b[43mfind_fastest_path\u001b[49m\u001b[43m(\u001b[49m\u001b[43mgraph\u001b[49m\u001b[43m,\u001b[49m\u001b[43m \u001b[49m\u001b[43mgtfs_data\u001b[49m\u001b[43m,\u001b[49m\u001b[43m \u001b[49m\u001b[43msource_city\u001b[49m\u001b[43m,\u001b[49m\u001b[43m \u001b[49m\u001b[43mdestination_city\u001b[49m\u001b[43m,\u001b[49m\u001b[43m \u001b[49m\u001b[43mcurrent_time\u001b[49m\u001b[43m)\u001b[49m\n\u001b[1;32m      7\u001b[0m \u001b[38;5;28;01mif\u001b[39;00m(path \u001b[38;5;129;01mand\u001b[39;00m time):\n\u001b[1;32m      8\u001b[0m     \u001b[38;5;28mprint\u001b[39m(\u001b[38;5;124mf\u001b[39m\u001b[38;5;124m\"\u001b[39m\u001b[38;5;124mFastest path: \u001b[39m\u001b[38;5;132;01m{\u001b[39;00mpath\u001b[38;5;132;01m}\u001b[39;00m\u001b[38;5;124m (Time: \u001b[39m\u001b[38;5;132;01m{\u001b[39;00mtime\u001b[38;5;132;01m}\u001b[39;00m\u001b[38;5;124m minutes)\u001b[39m\u001b[38;5;124m\"\u001b[39m)\n",
      "Cell \u001b[0;32mIn[45], line 37\u001b[0m, in \u001b[0;36mfind_fastest_path\u001b[0;34m(graph, gtfs_data, source_city, destination_city, current_time)\u001b[0m\n\u001b[1;32m     35\u001b[0m \u001b[38;5;28;01mfor\u001b[39;00m destination \u001b[38;5;129;01min\u001b[39;00m destination_stops:\n\u001b[1;32m     36\u001b[0m     \u001b[38;5;28;01mtry\u001b[39;00m:\n\u001b[0;32m---> 37\u001b[0m         path \u001b[38;5;241m=\u001b[39m \u001b[43mnx\u001b[49m\u001b[38;5;241;43m.\u001b[39;49m\u001b[43mshortest_path\u001b[49m\u001b[43m(\u001b[49m\u001b[43mfiltered_graph\u001b[49m\u001b[43m,\u001b[49m\u001b[43m \u001b[49m\u001b[43msource\u001b[49m\u001b[38;5;241;43m=\u001b[39;49m\u001b[43msource\u001b[49m\u001b[43m,\u001b[49m\u001b[43m \u001b[49m\u001b[43mtarget\u001b[49m\u001b[38;5;241;43m=\u001b[39;49m\u001b[43mdestination\u001b[49m\u001b[43m,\u001b[49m\u001b[43m \u001b[49m\u001b[43mweight\u001b[49m\u001b[38;5;241;43m=\u001b[39;49m\u001b[38;5;124;43m\"\u001b[39;49m\u001b[38;5;124;43mweight\u001b[39;49m\u001b[38;5;124;43m\"\u001b[39;49m\u001b[43m)\u001b[49m\n\u001b[1;32m     38\u001b[0m         time \u001b[38;5;241m=\u001b[39m nx\u001b[38;5;241m.\u001b[39mshortest_path_length(filtered_graph, source\u001b[38;5;241m=\u001b[39msource, target\u001b[38;5;241m=\u001b[39mdestination, weight\u001b[38;5;241m=\u001b[39m\u001b[38;5;124m\"\u001b[39m\u001b[38;5;124mweight\u001b[39m\u001b[38;5;124m\"\u001b[39m)\n\u001b[1;32m     40\u001b[0m         \u001b[38;5;28;01mif\u001b[39;00m time \u001b[38;5;241m<\u001b[39m min_time:\n",
      "File \u001b[0;32m~/Coding/Python/sentence_filter/.venv/lib/python3.9/site-packages/networkx/utils/backends.py:412\u001b[0m, in \u001b[0;36m_dispatch.__call__\u001b[0;34m(self, backend, *args, **kwargs)\u001b[0m\n\u001b[1;32m    409\u001b[0m \u001b[38;5;28;01mdef\u001b[39;00m \u001b[38;5;21m__call__\u001b[39m(\u001b[38;5;28mself\u001b[39m, \u001b[38;5;241m/\u001b[39m, \u001b[38;5;241m*\u001b[39margs, backend\u001b[38;5;241m=\u001b[39m\u001b[38;5;28;01mNone\u001b[39;00m, \u001b[38;5;241m*\u001b[39m\u001b[38;5;241m*\u001b[39mkwargs):\n\u001b[1;32m    410\u001b[0m     \u001b[38;5;28;01mif\u001b[39;00m \u001b[38;5;129;01mnot\u001b[39;00m backends:\n\u001b[1;32m    411\u001b[0m         \u001b[38;5;66;03m# Fast path if no backends are installed\u001b[39;00m\n\u001b[0;32m--> 412\u001b[0m         \u001b[38;5;28;01mreturn\u001b[39;00m \u001b[38;5;28;43mself\u001b[39;49m\u001b[38;5;241;43m.\u001b[39;49m\u001b[43morig_func\u001b[49m\u001b[43m(\u001b[49m\u001b[38;5;241;43m*\u001b[39;49m\u001b[43margs\u001b[49m\u001b[43m,\u001b[49m\u001b[43m \u001b[49m\u001b[38;5;241;43m*\u001b[39;49m\u001b[38;5;241;43m*\u001b[39;49m\u001b[43mkwargs\u001b[49m\u001b[43m)\u001b[49m\n\u001b[1;32m    414\u001b[0m     \u001b[38;5;66;03m# Use `backend_name` in this function instead of `backend`\u001b[39;00m\n\u001b[1;32m    415\u001b[0m     backend_name \u001b[38;5;241m=\u001b[39m backend\n",
      "File \u001b[0;32m~/Coding/Python/sentence_filter/.venv/lib/python3.9/site-packages/networkx/algorithms/shortest_paths/generic.py:175\u001b[0m, in \u001b[0;36mshortest_path\u001b[0;34m(G, source, target, weight, method)\u001b[0m\n\u001b[1;32m    173\u001b[0m     paths \u001b[38;5;241m=\u001b[39m nx\u001b[38;5;241m.\u001b[39mbidirectional_shortest_path(G, source, target)\n\u001b[1;32m    174\u001b[0m \u001b[38;5;28;01melif\u001b[39;00m method \u001b[38;5;241m==\u001b[39m \u001b[38;5;124m\"\u001b[39m\u001b[38;5;124mdijkstra\u001b[39m\u001b[38;5;124m\"\u001b[39m:\n\u001b[0;32m--> 175\u001b[0m     _, paths \u001b[38;5;241m=\u001b[39m \u001b[43mnx\u001b[49m\u001b[38;5;241;43m.\u001b[39;49m\u001b[43mbidirectional_dijkstra\u001b[49m\u001b[43m(\u001b[49m\u001b[43mG\u001b[49m\u001b[43m,\u001b[49m\u001b[43m \u001b[49m\u001b[43msource\u001b[49m\u001b[43m,\u001b[49m\u001b[43m \u001b[49m\u001b[43mtarget\u001b[49m\u001b[43m,\u001b[49m\u001b[43m \u001b[49m\u001b[43mweight\u001b[49m\u001b[43m)\u001b[49m\n\u001b[1;32m    176\u001b[0m \u001b[38;5;28;01melse\u001b[39;00m:  \u001b[38;5;66;03m# method == 'bellman-ford':\u001b[39;00m\n\u001b[1;32m    177\u001b[0m     paths \u001b[38;5;241m=\u001b[39m nx\u001b[38;5;241m.\u001b[39mbellman_ford_path(G, source, target, weight)\n",
      "File \u001b[0;32m~/Coding/Python/sentence_filter/.venv/lib/python3.9/site-packages/networkx/utils/backends.py:412\u001b[0m, in \u001b[0;36m_dispatch.__call__\u001b[0;34m(self, backend, *args, **kwargs)\u001b[0m\n\u001b[1;32m    409\u001b[0m \u001b[38;5;28;01mdef\u001b[39;00m \u001b[38;5;21m__call__\u001b[39m(\u001b[38;5;28mself\u001b[39m, \u001b[38;5;241m/\u001b[39m, \u001b[38;5;241m*\u001b[39margs, backend\u001b[38;5;241m=\u001b[39m\u001b[38;5;28;01mNone\u001b[39;00m, \u001b[38;5;241m*\u001b[39m\u001b[38;5;241m*\u001b[39mkwargs):\n\u001b[1;32m    410\u001b[0m     \u001b[38;5;28;01mif\u001b[39;00m \u001b[38;5;129;01mnot\u001b[39;00m backends:\n\u001b[1;32m    411\u001b[0m         \u001b[38;5;66;03m# Fast path if no backends are installed\u001b[39;00m\n\u001b[0;32m--> 412\u001b[0m         \u001b[38;5;28;01mreturn\u001b[39;00m \u001b[38;5;28;43mself\u001b[39;49m\u001b[38;5;241;43m.\u001b[39;49m\u001b[43morig_func\u001b[49m\u001b[43m(\u001b[49m\u001b[38;5;241;43m*\u001b[39;49m\u001b[43margs\u001b[49m\u001b[43m,\u001b[49m\u001b[43m \u001b[49m\u001b[38;5;241;43m*\u001b[39;49m\u001b[38;5;241;43m*\u001b[39;49m\u001b[43mkwargs\u001b[49m\u001b[43m)\u001b[49m\n\u001b[1;32m    414\u001b[0m     \u001b[38;5;66;03m# Use `backend_name` in this function instead of `backend`\u001b[39;00m\n\u001b[1;32m    415\u001b[0m     backend_name \u001b[38;5;241m=\u001b[39m backend\n",
      "File \u001b[0;32m~/Coding/Python/sentence_filter/.venv/lib/python3.9/site-packages/networkx/algorithms/shortest_paths/weighted.py:2366\u001b[0m, in \u001b[0;36mbidirectional_dijkstra\u001b[0;34m(G, source, target, weight)\u001b[0m\n\u001b[1;32m   2364\u001b[0m \u001b[38;5;28;01mif\u001b[39;00m source \u001b[38;5;129;01mnot\u001b[39;00m \u001b[38;5;129;01min\u001b[39;00m G \u001b[38;5;129;01mor\u001b[39;00m target \u001b[38;5;129;01mnot\u001b[39;00m \u001b[38;5;129;01min\u001b[39;00m G:\n\u001b[1;32m   2365\u001b[0m     msg \u001b[38;5;241m=\u001b[39m \u001b[38;5;124mf\u001b[39m\u001b[38;5;124m\"\u001b[39m\u001b[38;5;124mEither source \u001b[39m\u001b[38;5;132;01m{\u001b[39;00msource\u001b[38;5;132;01m}\u001b[39;00m\u001b[38;5;124m or target \u001b[39m\u001b[38;5;132;01m{\u001b[39;00mtarget\u001b[38;5;132;01m}\u001b[39;00m\u001b[38;5;124m is not in G\u001b[39m\u001b[38;5;124m\"\u001b[39m\n\u001b[0;32m-> 2366\u001b[0m     \u001b[38;5;28;01mraise\u001b[39;00m nx\u001b[38;5;241m.\u001b[39mNodeNotFound(msg)\n\u001b[1;32m   2368\u001b[0m \u001b[38;5;28;01mif\u001b[39;00m source \u001b[38;5;241m==\u001b[39m target:\n\u001b[1;32m   2369\u001b[0m     \u001b[38;5;28;01mreturn\u001b[39;00m (\u001b[38;5;241m0\u001b[39m, [source])\n",
      "\u001b[0;31mNodeNotFound\u001b[0m: Either source StopArea:OCE87212027 or target StopArea:OCE87113001 is not in G"
     ]
    }
   ],
   "source": [
    "source_city = \"Strasbourg\"\n",
    "destination_city = \"Paris Est\"\n",
    "current_time = datetime.now()\n",
    "\n",
    "# Find the fastest path\n",
    "path, time = find_fastest_path(graph, gtfs_data, source_city, destination_city, current_time)\n",
    "if(path and time):\n",
    "    print(f\"Fastest path: {path} (Time: {time} minutes)\")"
   ]
  }
 ],
 "metadata": {
  "kernelspec": {
   "display_name": ".venv",
   "language": "python",
   "name": "python3"
  },
  "language_info": {
   "codemirror_mode": {
    "name": "ipython",
    "version": 3
   },
   "file_extension": ".py",
   "mimetype": "text/x-python",
   "name": "python",
   "nbconvert_exporter": "python",
   "pygments_lexer": "ipython3",
   "version": "3.9.6"
  }
 },
 "nbformat": 4,
 "nbformat_minor": 2
}
