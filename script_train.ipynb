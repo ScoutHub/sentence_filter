{
 "cells": [
  {
   "cell_type": "code",
   "execution_count": 142,
   "metadata": {},
   "outputs": [],
   "source": [
    "import pandas as pd\n",
    "import networkx as nx\n",
    "from datetime import timedelta\n",
    "import re"
   ]
  },
  {
   "cell_type": "code",
   "execution_count": 143,
   "metadata": {},
   "outputs": [],
   "source": [
    "def extraire_stop_id(stop_id):\n",
    "    \"\"\"\n",
    "    Cette fonction extrait la partie pertinente du stop_id.\n",
    "    Elle supprime le préfixe 'StopPoint:' et la partie supplémentaire après le premier '-'.\n",
    "    \"\"\"\n",
    "    # Si le stop_id commence par 'StopPoint:', on le retire\n",
    "    if stop_id.startswith('StopPoint:'):\n",
    "        stop_id = stop_id[len('StopPoint:'):]\n",
    "    \n",
    "    # Extraire la partie avant le premier '-'\n",
    "    stop_id = stop_id.split('-')[0]\n",
    "    \n",
    "    return stop_id"
   ]
  },
  {
   "cell_type": "code",
   "execution_count": 144,
   "metadata": {},
   "outputs": [],
   "source": [
    "def charger_gtfs(fichiers):\n",
    "    \"\"\"\n",
    "    Charge les fichiers GTFS nécessaires.\n",
    "    :param fichiers: Dictionnaire contenant les chemins vers les fichiers GTFS.\n",
    "    :return: DataFrames des stops, trips, stop_times.\n",
    "    \"\"\"\n",
    "    stops = pd.read_csv(fichiers[\"stops\"])\n",
    "    stop_times = pd.read_csv(fichiers[\"stop_times\"])\n",
    "    trips = pd.read_csv(fichiers[\"trips\"])\n",
    "    routes = pd.read_csv(fichiers[\"routes\"])\n",
    "    \n",
    "    stop_times[\"stop_id\"] = stop_times[\"stop_id\"].str.replace(\"StopArea:\", \"\", regex=False)\n",
    "\n",
    "    return stops, stop_times, trips, routes"
   ]
  },
  {
   "cell_type": "code",
   "execution_count": 145,
   "metadata": {},
   "outputs": [],
   "source": [
    "def corriger_heure_gtfs(heure):\n",
    "    \"\"\"\n",
    "    Corrige les heures GTFS dépassant 23:59:59 (par ex. 24:20:00).\n",
    "    :param heure: Chaîne horaire au format HH:MM:SS.\n",
    "    :return: Heure corrigée sous forme de timedelta.\n",
    "    \"\"\"\n",
    "    try:\n",
    "        # Séparer les heures, minutes et secondes\n",
    "        h, m, s = map(int, heure.split(\":\"))\n",
    "        # Convertir en timedelta\n",
    "        return timedelta(hours=h, minutes=m, seconds=s)\n",
    "    except ValueError:\n",
    "        raise ValueError(f\"Heure invalide dans les données : {heure}\")\n"
   ]
  },
  {
   "cell_type": "code",
   "execution_count": 146,
   "metadata": {},
   "outputs": [],
   "source": [
    "def construire_graphe(stops, stop_times):\n",
    "    \"\"\"\n",
    "    Construit un graphe à partir des données GTFS.\n",
    "    :param stops: DataFrame des arrêts (stops.txt).\n",
    "    :param stop_times: DataFrame des horaires (stop_times.txt).\n",
    "    :return: Un graphe orienté pondéré.\n",
    "    \"\"\"\n",
    "    G = nx.DiGraph()\n",
    "\n",
    "    # Nettoyer les stop_id dans les nœuds du graphe\n",
    "    stop_times[\"departure_time\"] = stop_times[\"departure_time\"].apply(corriger_heure_gtfs)\n",
    "    stop_times[\"arrival_time\"] = stop_times[\"arrival_time\"].apply(corriger_heure_gtfs)\n",
    "\n",
    "    stop_times = stop_times.sort_values(by=[\"trip_id\", \"stop_sequence\"])\n",
    "\n",
    "    # Ajouter des nœuds au graphe en utilisant les stop_id\n",
    "    for stop_id in stops[\"stop_id\"]:\n",
    "        stop_id_nettoye = extraire_stop_id(stop_id)  # Appliquer le nettoyage\n",
    "        G.add_node(stop_id_nettoye)  # Ajouter le nœud nettoyé dans le graphe\n",
    "\n",
    "    # Ajouter des arêtes au graphe\n",
    "    for trip_id, group in stop_times.groupby(\"trip_id\"):\n",
    "        group = group.reset_index()\n",
    "        for i in range(len(group) - 1):\n",
    "            origine = extraire_stop_id(group.loc[i, \"stop_id\"])  # Appliquer le nettoyage\n",
    "            destination = extraire_stop_id(group.loc[i + 1, \"stop_id\"])  # Appliquer le nettoyage\n",
    "            temps_depart = group.loc[i, \"departure_time\"]\n",
    "            temps_arrivee = group.loc[i + 1, \"arrival_time\"]\n",
    "            poids = (temps_arrivee - temps_depart).total_seconds() // 60  # Temps en minutes\n",
    "\n",
    "            if poids >= 0:  # On évite les poids négatifs\n",
    "                G.add_edge(origine, destination, weight=poids)\n",
    "\n",
    "    return G\n"
   ]
  },
  {
   "cell_type": "code",
   "execution_count": 147,
   "metadata": {},
   "outputs": [],
   "source": [
    "def trouver_chemin_optimal(graphe, depart, arrivee):\n",
    "    \"\"\"\n",
    "    Trouve le chemin optimal entre deux arrêts.\n",
    "    :param graphe: Graphe orienté pondéré.\n",
    "    :param depart: ID de l'arrêt de départ.\n",
    "    :param arrivee: ID de l'arrêt d'arrivée.\n",
    "    :return: Chemin optimal et durée totale.\n",
    "    \"\"\"\n",
    "    try:\n",
    "        chemin = nx.shortest_path(graphe, source=depart, target=arrivee, weight=\"weight\")\n",
    "        duree = nx.shortest_path_length(graphe, source=depart, target=arrivee, weight=\"weight\")\n",
    "        return chemin, duree\n",
    "    except nx.NetworkXNoPath:\n",
    "        return None, float('inf')\n"
   ]
  },
  {
   "cell_type": "code",
   "execution_count": 148,
   "metadata": {},
   "outputs": [],
   "source": [
    "fichiers = {\n",
    "    \"stops\": \"assets/gtfs/stops.txt\",\n",
    "    \"stop_times\": \"assets/gtfs/stop_times.txt\",\n",
    "    \"trips\": \"assets/gtfs/trips.txt\",\n",
    "    \"routes\": \"assets/gtfs/routes.txt\"\n",
    "}"
   ]
  },
  {
   "cell_type": "code",
   "execution_count": 149,
   "metadata": {},
   "outputs": [],
   "source": [
    "stops, stop_times, trips, routes = charger_gtfs(fichiers)"
   ]
  },
  {
   "cell_type": "code",
   "execution_count": 150,
   "metadata": {},
   "outputs": [],
   "source": [
    "stops[\"stop_id\"] = stops[\"stop_id\"].apply(extraire_stop_id)"
   ]
  },
  {
   "cell_type": "code",
   "execution_count": 151,
   "metadata": {},
   "outputs": [],
   "source": [
    "graphe = construire_graphe(stops, stop_times)"
   ]
  },
  {
   "cell_type": "code",
   "execution_count": 152,
   "metadata": {},
   "outputs": [],
   "source": [
    "def trouver_stop_id(stops, nom_gare):\n",
    "    \"\"\"\n",
    "    Trouve le stop_id d'une gare par son nom.\n",
    "    :param stops: DataFrame des arrêts.\n",
    "    :param nom_gare: Nom (ou partie du nom) de la gare.\n",
    "    :return: Liste des stop_id correspondants.\n",
    "    \"\"\"\n",
    "    resultats = stops[stops[\"stop_name\"].str.contains(nom_gare, case=False)]\n",
    "    return resultats[[\"stop_id\", \"stop_name\"]]"
   ]
  },
  {
   "cell_type": "code",
   "execution_count": 153,
   "metadata": {},
   "outputs": [],
   "source": [
    "depart_ids = trouver_stop_id(stops, \"Paris\")\n",
    "end_ids = trouver_stop_id(stops, \"Strasbourg\")"
   ]
  },
  {
   "cell_type": "code",
   "execution_count": 154,
   "metadata": {},
   "outputs": [],
   "source": [
    "depart = depart_ids.iloc[0][\"stop_id\"]\n",
    "arrivee = end_ids.iloc[0][\"stop_id\"]"
   ]
  },
  {
   "cell_type": "code",
   "execution_count": 155,
   "metadata": {},
   "outputs": [
    {
     "name": "stdout",
     "output_type": "stream",
     "text": [
      "Le départ (OCE87113001) et l'arrivée (OCE87212027) sont dans le graphe.\n"
     ]
    }
   ],
   "source": [
    "if depart in graphe.nodes and arrivee in graphe.nodes:\n",
    "    print(f\"Le départ ({depart}) et l'arrivée ({arrivee}) sont dans le graphe.\")\n",
    "else:\n",
    "    print(f\"Erreur : L'un des arrêts ({depart} ou {arrivee}) n'est pas dans le graphe.\")\n"
   ]
  },
  {
   "cell_type": "code",
   "execution_count": 156,
   "metadata": {},
   "outputs": [
    {
     "name": "stdout",
     "output_type": "stream",
     "text": [
      "Voisins du départ (OCE87113001) : []\n"
     ]
    }
   ],
   "source": [
    "if depart in graphe.nodes:\n",
    "    voisins_depart = list(graphe.neighbors(depart))\n",
    "    print(f\"Voisins du départ ({depart}) : {voisins_depart}\")\n"
   ]
  }
 ],
 "metadata": {
  "kernelspec": {
   "display_name": ".venv",
   "language": "python",
   "name": "python3"
  },
  "language_info": {
   "codemirror_mode": {
    "name": "ipython",
    "version": 3
   },
   "file_extension": ".py",
   "mimetype": "text/x-python",
   "name": "python",
   "nbconvert_exporter": "python",
   "pygments_lexer": "ipython3",
   "version": "3.9.6"
  }
 },
 "nbformat": 4,
 "nbformat_minor": 2
}
