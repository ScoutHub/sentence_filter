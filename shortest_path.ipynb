{
 "cells": [
  {
   "cell_type": "code",
   "execution_count": 1,
   "metadata": {},
   "outputs": [],
   "source": [
    "import math\n",
    "import networkx as nx\n",
    "import json"
   ]
  },
  {
   "cell_type": "code",
   "execution_count": 23,
   "metadata": {},
   "outputs": [],
   "source": [
    "def haversine(coord1, coord2):\n",
    "    R = 6371.0\n",
    "    lat1, lon1 = coord1\n",
    "    lat2, lon2 = coord2\n",
    "    dlat = math.radians(lat2 - lat1)\n",
    "    dlon = math.radians(lon2 - lon1)\n",
    "    a = math.sin(dlat / 2)**2 + math.cos(math.radians(lat1)) * math.cos(math.radians(lat2)) * math.sin(dlon / 2)**2\n",
    "    c = 2 * math.atan2(math.sqrt(a), math.sqrt(1 - a))\n",
    "    return R * c"
   ]
  },
  {
   "cell_type": "code",
   "execution_count": 33,
   "metadata": {},
   "outputs": [],
   "source": [
    "def construct_graph(city_data, distance_max=100):\n",
    "    G = nx.Graph()\n",
    "    communes = {item['commune']: item['coordonnees'] for item in city_data}\n",
    "    \n",
    "    for commune, coord in communes.items():\n",
    "        G.add_node(commune, pos=coord)\n",
    "    \n",
    "    for commune, coord in communes.items():\n",
    "        for autre_commune, autre_coord in communes.items():\n",
    "            if commune != autre_commune:\n",
    "                dist = haversine(coord, autre_coord)\n",
    "                if dist <= distance_max:\n",
    "                    G.add_edge(commune, autre_commune, weight=dist)\n",
    "    \n",
    "    return G"
   ]
  },
  {
   "cell_type": "code",
   "execution_count": 34,
   "metadata": {},
   "outputs": [],
   "source": [
    "def shortest_path(G, source, destination):\n",
    "    try:\n",
    "        path = nx.shortest_path(G, source=source, target=destination, weight='weight')\n",
    "        distance = nx.shortest_path_length(G, source=source, target=destination, weight='weight')\n",
    "        return path, distance\n",
    "    except nx.NetworkXNoPath:\n",
    "        print(f\"Aucun chemin trouvé entre {source} et {destination}.\")\n",
    "        return None, None"
   ]
  },
  {
   "cell_type": "code",
   "execution_count": 52,
   "metadata": {},
   "outputs": [],
   "source": [
    "import json\n",
    "\n",
    "with open('assets/data.json', 'r') as file:\n",
    "    data = json.load(file)\n",
    "city_data = [{'commune': item['COMMUNE'].lower(), 'coordonnees': item['Geo Shape']['coordinates']} for item in data]"
   ]
  },
  {
   "cell_type": "code",
   "execution_count": 53,
   "metadata": {},
   "outputs": [],
   "source": [
    "distance_max = 100\n",
    "G = construct_graph(city_data, distance_max=distance_max)"
   ]
  },
  {
   "cell_type": "code",
   "execution_count": 54,
   "metadata": {},
   "outputs": [],
   "source": [
    "source = \"lille\"\n",
    "destination = \"bordeaux\""
   ]
  },
  {
   "cell_type": "code",
   "execution_count": 55,
   "metadata": {},
   "outputs": [],
   "source": [
    "chemin, distance = shortest_path(G, source, destination)"
   ]
  },
  {
   "cell_type": "code",
   "execution_count": 56,
   "metadata": {},
   "outputs": [
    {
     "name": "stdout",
     "output_type": "stream",
     "text": [
      "Shortest path from lille to bordeaux  :\n",
      "Step 1: lille -> roeux\n",
      "Step 2: roeux -> gannes\n",
      "Step 3: gannes -> neuville-sur-oise\n",
      "Step 4: neuville-sur-oise -> les essarts-le-roi\n",
      "Step 5: les essarts-le-roi -> villemaury\n",
      "Step 6: villemaury -> veuzain-sur-loire\n",
      "Step 7: veuzain-sur-loire -> chambourg-sur-indre\n",
      "Step 8: chambourg-sur-indre -> jardres\n",
      "Step 9: jardres -> civray\n",
      "Step 10: civray -> chateauneuf-sur-charente\n",
      "Step 11: chateauneuf-sur-charente -> cubzac-les-ponts\n",
      "Step 12: cubzac-les-ponts -> bordeaux\n",
      "Total distance: 761.31 km\n"
     ]
    }
   ],
   "source": [
    "if chemin and distance:\n",
    "    print(f\"Shortest path from {source} to {destination}  :\")\n",
    "    for i, ville in enumerate(chemin[:-1]):\n",
    "        print(f\"Step {i + 1}: {ville} -> {chemin[i + 1]}\")\n",
    "    print(\"Total distance:\", round(distance, 2), \"km\")\n"
   ]
  },
  {
   "cell_type": "code",
   "execution_count": 60,
   "metadata": {},
   "outputs": [],
   "source": [
    "for node, data in G.nodes(data=True):\n",
    "    if isinstance(data.get('pos'), list):\n",
    "        data['pos'] = ','.join(map(str, data['pos']))\n",
    "\n",
    "nx.write_graphml(G, \"graphe_villes.graphml\")"
   ]
  }
 ],
 "metadata": {
  "kernelspec": {
   "display_name": ".venv",
   "language": "python",
   "name": "python3"
  },
  "language_info": {
   "codemirror_mode": {
    "name": "ipython",
    "version": 3
   },
   "file_extension": ".py",
   "mimetype": "text/x-python",
   "name": "python",
   "nbconvert_exporter": "python",
   "pygments_lexer": "ipython3",
   "version": "3.9.6"
  }
 },
 "nbformat": 4,
 "nbformat_minor": 2
}
