{
 "cells": [
  {
   "cell_type": "code",
   "execution_count": 1,
   "metadata": {},
   "outputs": [],
   "source": [
    "import math\n",
    "\n",
    "def haversine(coord1, coord2):\n",
    "    # Rayon de la Terre en kilomètres\n",
    "    R = 6371.0\n",
    "    lat1, lon1 = coord1\n",
    "    lat2, lon2 = coord2\n",
    "    dlat = math.radians(lat2 - lat1)\n",
    "    dlon = math.radians(lon2 - lon1)\n",
    "    a = math.sin(dlat / 2)**2 + math.cos(math.radians(lat1)) * math.cos(math.radians(lat2)) * math.sin(dlon / 2)**2\n",
    "    c = 2 * math.atan2(math.sqrt(a), math.sqrt(1 - a))\n",
    "    return R * c"
   ]
  },
  {
   "cell_type": "code",
   "execution_count": 8,
   "metadata": {},
   "outputs": [],
   "source": [
    "import networkx as nx\n",
    "\n",
    "def construire_graphe(city_data):\n",
    "    G = nx.Graph()\n",
    "    \n",
    "    # Créer un dictionnaire pour accéder rapidement aux coordonnées des communes\n",
    "    communes = {item['commune']: item['coordonnees'] for item in city_data}\n",
    "    \n",
    "    # Ajouter chaque commune comme nœud avec ses coordonnées\n",
    "    for commune, coord in communes.items():\n",
    "        G.add_node(commune, pos=coord)\n",
    "    \n",
    "    # Ajouter les arêtes pondérées par la distance\n",
    "    for commune, coord in communes.items():\n",
    "        for autre_commune, autre_coord in communes.items():\n",
    "            if commune != autre_commune:\n",
    "                dist = haversine(coord, autre_coord)\n",
    "                G.add_edge(commune, autre_commune, weight=dist)\n",
    "    \n",
    "    return G"
   ]
  },
  {
   "cell_type": "code",
   "execution_count": 10,
   "metadata": {},
   "outputs": [],
   "source": [
    "# Fonction pour trouver le chemin le plus court entre deux communes\n",
    "def chemin_le_plus_court(G, source, destination):\n",
    "    chemin = nx.shortest_path(G, source=source, target=destination, weight='weight')\n",
    "    distance_totale = nx.shortest_path_length(G, source=source, target=destination, weight='weight')\n",
    "    return chemin, distance_totale\n"
   ]
  },
  {
   "cell_type": "code",
   "execution_count": 16,
   "metadata": {},
   "outputs": [],
   "source": [
    "import json\n",
    "\n",
    "with open('assets/data.json', 'r') as file:\n",
    "    data = json.load(file)\n",
    "city_data = [{'commune': item['COMMUNE'].lower(), 'coordonnees': item['Geo Shape']['coordinates']} for item in data]"
   ]
  },
  {
   "cell_type": "code",
   "execution_count": 17,
   "metadata": {},
   "outputs": [],
   "source": [
    "G = construire_graphe(city_data)"
   ]
  },
  {
   "cell_type": "code",
   "execution_count": 29,
   "metadata": {},
   "outputs": [],
   "source": [
    "source = \"lille\"\n",
    "destination = \"marseille\""
   ]
  },
  {
   "cell_type": "code",
   "execution_count": 30,
   "metadata": {},
   "outputs": [],
   "source": [
    "chemin, distance = chemin_le_plus_court(G, source, destination)"
   ]
  },
  {
   "cell_type": "code",
   "execution_count": 31,
   "metadata": {},
   "outputs": [
    {
     "name": "stdout",
     "output_type": "stream",
     "text": [
      "Chemin le plus court: ['lille', 'marseille']\n",
      "Distance totale: 855.1126297477794 km\n"
     ]
    }
   ],
   "source": [
    "print(\"Chemin le plus court:\", chemin)\n",
    "print(\"Distance totale:\", distance, \"km\")"
   ]
  }
 ],
 "metadata": {
  "kernelspec": {
   "display_name": ".venv",
   "language": "python",
   "name": "python3"
  },
  "language_info": {
   "codemirror_mode": {
    "name": "ipython",
    "version": 3
   },
   "file_extension": ".py",
   "mimetype": "text/x-python",
   "name": "python",
   "nbconvert_exporter": "python",
   "pygments_lexer": "ipython3",
   "version": "3.9.6"
  }
 },
 "nbformat": 4,
 "nbformat_minor": 2
}
