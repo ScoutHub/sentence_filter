{
 "cells": [
  {
   "cell_type": "code",
   "execution_count": 1,
   "metadata": {},
   "outputs": [],
   "source": [
    "lines = []\n",
    "with open('sentence2.txt') as f:\n",
    "    [lines.append(line.rstrip()) for line in f.readlines()]"
   ]
  },
  {
   "cell_type": "code",
   "execution_count": 2,
   "metadata": {},
   "outputs": [
    {
     "data": {
      "text/plain": [
       "['Le charme de # réside dans ses quartiers historiques et modernes.',\n",
       " \"À #, la gastronomie et l'architecture se mêlent harmonieusement.\",\n",
       " '# est une destination incontournable pour les amateurs de vin.',\n",
       " 'Quand on se promène à #, on est frappé par la beauté de la mer.',\n",
       " 'La ville de #, avec ses briques roses, ne manque jamais d’émerveiller.',\n",
       " '# est célèbre pour sa cathédrale et son marché de Noël.',\n",
       " 'À #, on ressent immédiatement l’accueil chaleureux du nord.',\n",
       " \"#, avec son vieux port, incarne l'esprit méditerranéen.\",\n",
       " 'Les châteaux et la # entourent majestueusement la ville de #.',\n",
       " 'À #, les places ensoleillées sont idéales pour se détendre.',\n",
       " \"# regorge de petites rues pittoresques qui méritent d'être découvertes.\",\n",
       " 'Le dynamisme de # contraste avec la tranquillité de ses côtes.',\n",
       " '# offre une vue imprenable sur les montagnes environnantes.',\n",
       " 'En visitant #, le Palais des Papes s’impose comme une œuvre d’art.',\n",
       " \"Le soleil brille presque toute l'année à #, pour le plus grand bonheur des habitants.\",\n",
       " 'La douceur de vivre à # en fait une ville très agréable à visiter.',\n",
       " \"L'architecture audacieuse du # témoigne de son histoire moderne.\",\n",
       " 'À #, les caves de champagne sont une attraction prisée.',\n",
       " '# est un véritable paradis pour les amateurs de bonne cuisine.',\n",
       " 'La ville de # est incontournable pour ceux qui aiment l’histoire des rois de France.']"
      ]
     },
     "execution_count": 2,
     "metadata": {},
     "output_type": "execute_result"
    }
   ],
   "source": [
    "lines"
   ]
  },
  {
   "cell_type": "code",
   "execution_count": 4,
   "metadata": {},
   "outputs": [
    {
     "data": {
      "text/plain": [
       "['Le charme de Lyon réside dans ses quartiers historiques et modernes.',\n",
       " \"À Lyon, la gastronomie et l'architecture se mêlent harmonieusement.\",\n",
       " 'Lyon est une destination incontournable pour les amateurs de vin.',\n",
       " 'Quand on se promène à Lyon, on est frappé par la beauté de la mer.',\n",
       " 'La ville de Lyon, avec ses briques roses, ne manque jamais d’émerveiller.',\n",
       " 'Lyon est célèbre pour sa cathédrale et son marché de Noël.',\n",
       " 'À Lyon, on ressent immédiatement l’accueil chaleureux du nord.',\n",
       " \"Lyon, avec son vieux port, incarne l'esprit méditerranéen.\",\n",
       " 'Les châteaux et la Lyon entourent majestueusement la ville de Lyon.',\n",
       " 'À Lyon, les places ensoleillées sont idéales pour se détendre.',\n",
       " \"Lyon regorge de petites rues pittoresques qui méritent d'être découvertes.\",\n",
       " 'Le dynamisme de Lyon contraste avec la tranquillité de ses côtes.',\n",
       " 'Lyon offre une vue imprenable sur les montagnes environnantes.',\n",
       " 'En visitant Lyon, le Palais des Papes s’impose comme une œuvre d’art.',\n",
       " \"Le soleil brille presque toute l'année à Lyon, pour le plus grand bonheur des habitants.\",\n",
       " 'La douceur de vivre à Lyon en fait une ville très agréable à visiter.',\n",
       " \"L'architecture audacieuse du Lyon témoigne de son histoire moderne.\",\n",
       " 'À Lyon, les caves de champagne sont une attraction prisée.',\n",
       " 'Lyon est un véritable paradis pour les amateurs de bonne cuisine.',\n",
       " 'La ville de Lyon est incontournable pour ceux qui aiment l’histoire des rois de France.']"
      ]
     },
     "execution_count": 4,
     "metadata": {},
     "output_type": "execute_result"
    }
   ],
   "source": [
    "[line.replace(\"#\", \"Lyon\") for line in lines]"
   ]
  }
 ],
 "metadata": {
  "kernelspec": {
   "display_name": ".venv",
   "language": "python",
   "name": "python3"
  },
  "language_info": {
   "codemirror_mode": {
    "name": "ipython",
    "version": 3
   },
   "file_extension": ".py",
   "mimetype": "text/x-python",
   "name": "python",
   "nbconvert_exporter": "python",
   "pygments_lexer": "ipython3",
   "version": "3.9.6"
  }
 },
 "nbformat": 4,
 "nbformat_minor": 2
}
